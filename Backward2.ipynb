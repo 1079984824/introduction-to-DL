{
 "cells": [
  {
   "cell_type": "code",
   "execution_count": 16,
   "metadata": {},
   "outputs": [],
   "source": [
    "import torch\n",
    "import matplotlib.pyplot as plt"
   ]
  },
  {
   "cell_type": "code",
   "execution_count": 17,
   "metadata": {},
   "outputs": [],
   "source": [
    "x_data = torch.Tensor([[1.0], [2.0], [3.0]])\n",
    "y_data = torch.Tensor([[3.0], [5.0], [7.0]])"
   ]
  },
  {
   "cell_type": "code",
   "execution_count": 18,
   "metadata": {},
   "outputs": [],
   "source": [
    "class LinearModel(torch.nn.Module):\n",
    "    def __init__(self):\n",
    "        super(LinearModel, self).__init__()\n",
    "        self.linear = torch.nn.Linear(1, 1)\n",
    "\n",
    "    def forward(self, x):\n",
    "        y_pred = self.linear(x)\n",
    "        return y_pred"
   ]
  },
  {
   "cell_type": "code",
   "execution_count": 19,
   "metadata": {},
   "outputs": [],
   "source": [
    "model = LinearModel()"
   ]
  },
  {
   "cell_type": "code",
   "execution_count": 20,
   "metadata": {},
   "outputs": [],
   "source": [
    "criterion = torch.nn.MSELoss(reduction='sum')\n",
    "optimizer = torch.optim.SGD(model.parameters(), lr=0.01)"
   ]
  },
  {
   "cell_type": "code",
   "execution_count": 21,
   "metadata": {},
   "outputs": [
    {
     "name": "stdout",
     "output_type": "stream",
     "text": [
      "0 149.01388549804688\n",
      "1 66.34705352783203\n",
      "2 29.545984268188477\n",
      "3 13.163043022155762\n",
      "4 5.869681358337402\n",
      "5 2.622741937637329\n",
      "6 1.1771557331085205\n",
      "7 0.5334842205047607\n",
      "8 0.24680402874946594\n",
      "9 0.11904856562614441\n",
      "10 0.062043704092502594\n",
      "11 0.036536674946546555\n",
      "12 0.025053415447473526\n",
      "13 0.019815105944871902\n",
      "14 0.0173586867749691\n",
      "15 0.016142472624778748\n",
      "16 0.015480074100196362\n",
      "17 0.015066046267747879\n",
      "18 0.014764232560992241\n",
      "19 0.014514101669192314\n",
      "20 0.014288571663200855\n",
      "21 0.01407572254538536\n",
      "22 0.01387007161974907\n",
      "23 0.01366924773901701\n",
      "24 0.013472186401486397\n",
      "25 0.013278212398290634\n",
      "26 0.013087188825011253\n",
      "27 0.012899075634777546\n",
      "28 0.012713637202978134\n",
      "29 0.012530946172773838\n",
      "30 0.01235092431306839\n",
      "31 0.012173369526863098\n",
      "32 0.011998391710221767\n",
      "33 0.01182599738240242\n",
      "34 0.011656022630631924\n",
      "35 0.011488513089716434\n",
      "36 0.011323397979140282\n",
      "37 0.011160651221871376\n",
      "38 0.011000276543200016\n",
      "39 0.0108422189950943\n",
      "40 0.010686387307941914\n",
      "41 0.010532747022807598\n",
      "42 0.010381372645497322\n",
      "43 0.010232195258140564\n",
      "44 0.01008514128625393\n",
      "45 0.009940236806869507\n",
      "46 0.009797312319278717\n",
      "47 0.009656548500061035\n",
      "48 0.00951777957379818\n",
      "49 0.009380977600812912\n",
      "50 0.009246155619621277\n",
      "51 0.00911328662186861\n",
      "52 0.008982316590845585\n",
      "53 0.008853228762745857\n",
      "54 0.008726010099053383\n",
      "55 0.008600559085607529\n",
      "56 0.008476979099214077\n",
      "57 0.008355170488357544\n",
      "58 0.00823510903865099\n",
      "59 0.008116728626191616\n",
      "60 0.008000114932656288\n",
      "61 0.007885145954787731\n",
      "62 0.007771776989102364\n",
      "63 0.007660130504518747\n",
      "64 0.0075500234961509705\n",
      "65 0.0074415323324501514\n",
      "66 0.007334532681852579\n",
      "67 0.007229167968034744\n",
      "68 0.007125248201191425\n",
      "69 0.007022850215435028\n",
      "70 0.0069219195283949375\n",
      "71 0.006822478026151657\n",
      "72 0.006724389269948006\n",
      "73 0.0066277459263801575\n",
      "74 0.006532520055770874\n",
      "75 0.006438632495701313\n",
      "76 0.0063460953533649445\n",
      "77 0.006254904437810183\n",
      "78 0.006164994556456804\n",
      "79 0.006076405756175518\n",
      "80 0.0059891026467084885\n",
      "81 0.005903033539652824\n",
      "82 0.00581817701458931\n",
      "83 0.005734555888921022\n",
      "84 0.005652147810906172\n",
      "85 0.005570900160819292\n",
      "86 0.0054908571764826775\n",
      "87 0.005411974620074034\n",
      "88 0.005334198474884033\n",
      "89 0.005257490556687117\n",
      "90 0.005181937012821436\n",
      "91 0.005107508040964603\n",
      "92 0.005034054629504681\n",
      "93 0.004961755592375994\n",
      "94 0.004890386015176773\n",
      "95 0.004820127040147781\n",
      "96 0.004750897642225027\n",
      "97 0.004682590253651142\n",
      "98 0.004615260288119316\n",
      "99 0.004549001343548298\n"
     ]
    }
   ],
   "source": [
    "losses = []\n",
    "for epoch in range(100):\n",
    "    y_pred = model(x_data)\n",
    "    loss = criterion(y_pred, y_data)\n",
    "    print(epoch, loss.item())\n",
    "\n",
    "    optimizer.zero_grad()\n",
    "    loss.backward()\n",
    "    optimizer.step()\n",
    "    losses.append(loss.item())"
   ]
  },
  {
   "cell_type": "code",
   "execution_count": 22,
   "metadata": {},
   "outputs": [
    {
     "name": "stdout",
     "output_type": "stream",
     "text": [
      "w =  1.9550998210906982\n",
      "b =  1.1020686626434326\n"
     ]
    }
   ],
   "source": [
    "print(\"w = \", model.linear.weight.item())\n",
    "print(\"b = \", model.linear.bias.item())"
   ]
  },
  {
   "cell_type": "code",
   "execution_count": 23,
   "metadata": {},
   "outputs": [
    {
     "name": "stdout",
     "output_type": "stream",
     "text": [
      "y_pred =  8.922468185424805\n"
     ]
    }
   ],
   "source": [
    "x_test = torch.Tensor([[4.0]])\n",
    "y_test = model(x_test)\n",
    "print(\"y_pred = \", y_test.data.item())"
   ]
  },
  {
   "cell_type": "code",
   "execution_count": 24,
   "metadata": {},
   "outputs": [
    {
     "data": {
      "image/png": "[encoded data removed]",
      "text/plain": [
       "<Figure size 432x288 with 1 Axes>"
      ]
     },
     "metadata": {
      "needs_background": "light"
     },
     "output_type": "display_data"
    }
   ],
   "source": [
    "plt.plot(range(1, len(losses) + 1), losses)\n",
    "plt.xlabel(\"epoch\")\n",
    "plt.ylabel(\"loss\")\n",
    "plt.show()"
   ]
  }
 ],
 "metadata": {
  "kernelspec": {
   "display_name": "pytorch",
   "language": "python",
   "name": "python3"
  },
  "language_info": {
   "codemirror_mode": {
    "name": "ipython",
    "version": 3
   },
   "file_extension": ".py",
   "mimetype": "text/x-python",
   "name": "python",
   "nbconvert_exporter": "python",
   "pygments_lexer": "ipython3",
   "version": "3.6.15"
  }
 },
 "nbformat": 4,
 "nbformat_minor": 2
}
