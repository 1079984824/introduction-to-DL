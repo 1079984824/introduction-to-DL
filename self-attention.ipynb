{
 "cells": [
  {
   "cell_type": "code",
   "execution_count": 1,
   "metadata": {},
   "outputs": [],
   "source": [
    "import numpy as np\n",
    "import torch\n",
    "from math import sqrt"
   ]
  },
  {
   "cell_type": "code",
   "execution_count": null,
   "metadata": {},
   "outputs": [],
   "source": [
    "class Self_Attention(torch.nn.Module):\n",
    "    def __init__(self, input_dim, dim_k, dim_v):\n",
    "        #input: batch_size * seq_len *input_dim\n",
    "        #q: batch_size * seq_len * dim_k\n",
    "        #k: batch_size * seq_len * dim_k\n",
    "        #v: batch_size * seq_len * dim_v\n",
    "        \n",
    "        super(Self_Attention, self).__init__()\n",
    "        self.q = torch.nn.Linear(input_dim, dim_k)\n",
    "        self.k = torch.nn.Linear(input_dim, dim_k)\n",
    "        self.v = torch.nn.Linear(input_dim, dim_v)\n",
    "        self._norm_fact = 1 / sqrt(dim_k)\n",
    "\n",
    "    def forward(self, x):\n",
    "        Q = self.q(x)        #Q: batch_size * seq_len * dim_k\n",
    "        K = self.k(x)        #K: batch_size * seq_len * dim_k\n",
    "        V = self.v(x)        #V: batch_size * seq_len * dim_v\n",
    "        #Q * K.T()  batch_size * seq_len * seq_len\n",
    "        atten = torch.nn.Softmax(dim=-1)(torch.bmm(Q, K.permute(0, 2, 1))) * self._norm_fact\n",
    "        #Q * K.T() * V  batch_size * seq_len * dim_v\n",
    "        output = torch.bmm(atten, V)\n",
    "        return output\n"
   ]
  }
 ],
 "metadata": {
  "kernelspec": {
   "display_name": "pytorch",
   "language": "python",
   "name": "python3"
  },
  "language_info": {
   "codemirror_mode": {
    "name": "ipython",
    "version": 3
   },
   "file_extension": ".py",
   "mimetype": "text/x-python",
   "name": "python",
   "nbconvert_exporter": "python",
   "pygments_lexer": "ipython3",
   "version": "3.6.15"
  }
 },
 "nbformat": 4,
 "nbformat_minor": 2
}
