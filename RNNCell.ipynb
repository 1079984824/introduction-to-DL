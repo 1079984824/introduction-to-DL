{
 "cells": [
  {
   "cell_type": "code",
   "execution_count": 192,
   "metadata": {},
   "outputs": [],
   "source": [
    "import torch"
   ]
  },
  {
   "cell_type": "code",
   "execution_count": 193,
   "metadata": {},
   "outputs": [],
   "source": [
    "input_size = 4\n",
    "hidden_size = 4\n",
    "batch_size = 1\n",
    "num_class = 4"
   ]
  },
  {
   "cell_type": "code",
   "execution_count": 194,
   "metadata": {},
   "outputs": [],
   "source": [
    "idx2char = ['e', 'h', 'l', 'o']\n",
    "x_data = [1, 0, 2, 2, 3] #hello\n",
    "y_data = [3, 1, 2, 3, 2] #ohlol"
   ]
  },
  {
   "cell_type": "code",
   "execution_count": 195,
   "metadata": {},
   "outputs": [],
   "source": [
    "one_hot_lookup = [[1, 0, 0, 0],\n",
    "                  [0, 1, 0, 0],\n",
    "                  [0, 0, 1, 0],\n",
    "                  [0, 0, 0, 1]]\n",
    "\n",
    "x_one_hot = [one_hot_lookup[x] for x in x_data]"
   ]
  },
  {
   "cell_type": "code",
   "execution_count": 196,
   "metadata": {},
   "outputs": [],
   "source": [
    "inputs = torch.tensor(x_one_hot).view(-1, batch_size, input_size).float()\n",
    "labels = torch.LongTensor(y_data).view(-1, 1) "
   ]
  },
  {
   "cell_type": "code",
   "execution_count": 197,
   "metadata": {},
   "outputs": [],
   "source": [
    "class Net(torch.nn.Module):\n",
    "    def __init__(self, input_size, hidden_size, num_class):\n",
    "        super(Net, self).__init__()\n",
    "        self.input_size = input_size\n",
    "        self.hidden_size = hidden_size\n",
    "        self.num_class = num_class\n",
    "        self.rnncell = torch.nn.RNNCell(input_size=self.input_size, hidden_size=hidden_size)\n",
    "        self.fc = torch.nn.Linear(hidden_size, num_class)\n",
    "\n",
    "    def forward(self, input, hidden):\n",
    "        hidden = self.rnncell(input, hidden)\n",
    "        output = self.fc(hidden)\n",
    "        return output, hidden\n",
    "    def init_hidden(self):\n",
    "        return torch.zeros(1, self.hidden_size)"
   ]
  },
  {
   "cell_type": "code",
   "execution_count": 198,
   "metadata": {},
   "outputs": [],
   "source": [
    "model = Net(input_size, hidden_size, num_class)"
   ]
  },
  {
   "cell_type": "code",
   "execution_count": 199,
   "metadata": {},
   "outputs": [],
   "source": [
    "criterion = torch.nn.CrossEntropyLoss(reduction='mean')\n",
    "optimizer = torch.optim.Adam(model.parameters(), lr=0.1)"
   ]
  },
  {
   "cell_type": "code",
   "execution_count": 200,
   "metadata": {},
   "outputs": [
    {
     "name": "stdout",
     "output_type": "stream",
     "text": [
      "Predicted string: leeel,Epoch[1/25], Loss = 8.0372\n",
      "Predicted string: lllll,Epoch[2/25], Loss = 6.8255\n",
      "Predicted string: lllll,Epoch[3/25], Loss = 5.9504\n",
      "Predicted string: lllll,Epoch[4/25], Loss = 5.1979\n",
      "Predicted string: ollll,Epoch[5/25], Loss = 4.5490\n",
      "Predicted string: ololl,Epoch[6/25], Loss = 4.0184\n",
      "Predicted string: ohool,Epoch[7/25], Loss = 3.4998\n",
      "Predicted string: ohool,Epoch[8/25], Loss = 3.0141\n",
      "Predicted string: ohool,Epoch[9/25], Loss = 2.5289\n",
      "Predicted string: ohlol,Epoch[10/25], Loss = 1.9731\n",
      "Predicted string: ohlol,Epoch[11/25], Loss = 1.3657\n",
      "Predicted string: ohlol,Epoch[12/25], Loss = 0.8529\n",
      "Predicted string: ohlol,Epoch[13/25], Loss = 0.6236\n",
      "Predicted string: ohlol,Epoch[14/25], Loss = 0.4794\n",
      "Predicted string: ohlol,Epoch[15/25], Loss = 0.3239\n",
      "Predicted string: ohlol,Epoch[16/25], Loss = 0.2351\n",
      "Predicted string: ohlol,Epoch[17/25], Loss = 0.1857\n",
      "Predicted string: ohlol,Epoch[18/25], Loss = 0.1470\n",
      "Predicted string: ohlol,Epoch[19/25], Loss = 0.1127\n",
      "Predicted string: ohlol,Epoch[20/25], Loss = 0.0847\n",
      "Predicted string: ohlol,Epoch[21/25], Loss = 0.0638\n",
      "Predicted string: ohlol,Epoch[22/25], Loss = 0.0490\n",
      "Predicted string: ohlol,Epoch[23/25], Loss = 0.0386\n",
      "Predicted string: ohlol,Epoch[24/25], Loss = 0.0311\n",
      "Predicted string: ohlol,Epoch[25/25], Loss = 0.0257\n"
     ]
    }
   ],
   "source": [
    "for epoch in range(25):\n",
    "    loss = 0\n",
    "    hidden = model.init_hidden()\n",
    "    optimizer.zero_grad()\n",
    "    print('Predicted string: ', end='')\n",
    "    for input, label in zip(inputs, labels):\n",
    "        output, hidden = model(input, hidden)\n",
    "        loss += criterion(output, label)\n",
    "        _, idx = output.max(dim=1)\n",
    "        print(idx2char[idx.item()], end='')\n",
    "    loss.backward()\n",
    "    optimizer.step()\n",
    "    print(f',Epoch[{epoch + 1}/25], Loss = {loss.item():.4f}')\n"
   ]
  },
  {
   "cell_type": "code",
   "execution_count": null,
   "metadata": {},
   "outputs": [],
   "source": []
  }
 ],
 "metadata": {
  "kernelspec": {
   "display_name": "pytorch",
   "language": "python",
   "name": "python3"
  },
  "language_info": {
   "codemirror_mode": {
    "name": "ipython",
    "version": 3
   },
   "file_extension": ".py",
   "mimetype": "text/x-python",
   "name": "python",
   "nbconvert_exporter": "python",
   "pygments_lexer": "ipython3",
   "version": "3.6.15"
  }
 },
 "nbformat": 4,
 "nbformat_minor": 2
}
