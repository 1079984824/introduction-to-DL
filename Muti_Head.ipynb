{
 "cells": [
  {
   "cell_type": "code",
   "execution_count": null,
   "metadata": {},
   "outputs": [],
   "source": [
    "import torch\n",
    "from math import sqrt\n",
    "from torch import nn"
   ]
  },
  {
   "cell_type": "code",
   "execution_count": null,
   "metadata": {},
   "outputs": [],
   "source": [
    "class Self_Attention_Muti_Head(nn.Module):\n",
    "    def __init__(self, input_dim, k_dim, v_dim, nums_head):\n",
    "        super(Self_Attention_Muti_Head, self).__init__()\n",
    "        assert k_dim % nums_head == 0\n",
    "        assert v_dim % nums_head == 0\n",
    "        self.q = nn.Linear(input_dim, k_dim)\n",
    "        self.k = nn.Linear(input_dim, k_dim)\n",
    "        self.v = nn.Linear(input_dim, v_dim)\n",
    "\n",
    "        self.nums_head = nums_head\n",
    "        self.k_dim = k_dim\n",
    "        self.v_dim = v_dim\n",
    "        self._norm_fact = 1 / sqrt(k_dim // nums_head)\n",
    "\n",
    "    def forward(self, x):\n",
    "        batch_size = x.size(0)\n",
    "      \n",
    "        Q = self.q(x).view(batch_size, -1, self.nums_head, self.k_dim // self.nums_head).transpose(1, 2)  #[batch_size, nums_head, seq_len, k_dim // nums_head]\n",
    "        K = self.k(x).view(batch_size, -1, self.nums_head, self.k_dim // self.nums_head).transpose(1, 2)\n",
    "        V = self.v(x).view(batch_size, -1, self.nums_head, self.v_dim // self.nums_head).transpose(1, 2)\n",
    "        print(x.shape)\n",
    "        print(Q.size())\n",
    "\n",
    "        atten = torch.matmul(Q, K.transpose(-1, -2)) * self._norm_fact\n",
    "        atten = nn.Softmax(dim=-1)(atten)\n",
    "\n",
    "        output = torch.matmul(atten, V).transpose(1, 2).contiguous().view(batch_size, -1, self.v_dim)\n",
    "        return output\n",
    "    \n",
    "\n"
   ]
  }
 ],
 "metadata": {
  "kernelspec": {
   "display_name": "pytorch",
   "language": "python",
   "name": "python3"
  },
  "language_info": {
   "codemirror_mode": {
    "name": "ipython",
    "version": 3
   },
   "file_extension": ".py",
   "mimetype": "text/x-python",
   "name": "python",
   "nbconvert_exporter": "python",
   "pygments_lexer": "ipython3",
   "version": "3.6.15"
  }
 },
 "nbformat": 4,
 "nbformat_minor": 2
}
