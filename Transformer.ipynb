{
 "cells": [
  {
   "cell_type": "code",
   "execution_count": null,
   "metadata": {},
   "outputs": [],
   "source": [
    "import numpy as np\n",
    "import torch\n",
    "import torch.nn as nn\n",
    "import matplotlib.pyplot as plt\n",
    "import torch.nn.functional as F"
   ]
  },
  {
   "cell_type": "code",
   "execution_count": 2,
   "metadata": {},
   "outputs": [],
   "source": [
    "def make_batch(sentences):\n",
    "    input_batch = [[src_vocab[i] for i in sentences[0].split()]]\n",
    "    output_batch = [[tgt_vocab[i] for i in sentences[1].split()]]\n",
    "    target_batch = [[tgt_vocab[i] for i in sentences[2].split()]]\n",
    "    return torch.LongTensor(input_batch), torch.LongTensor(output_batch), torch.LongTensor(target_batch)"
   ]
  },
  {
   "cell_type": "code",
   "execution_count": 3,
   "metadata": {},
   "outputs": [],
   "source": [
    "#位置编码计算\n",
    "\n",
    "class PositionalEncoding(nn.Module):\n",
    "    def __init__(self, max_len=5000, dropout=0.1):\n",
    "        super(PositionalEncoding, self).__init__()\n",
    "        self.dropout = nn.Dropout(p=dropout)\n",
    "        def cal_angel(position, hid_idx):\n",
    "            return position / np.power(10000, 2 * (hid_idx // 2) / d_model)\n",
    "        def get_pos_angel(position):\n",
    "            return [cal_angel(position, hid_idx) for hid_idx in range(d_model)]\n",
    "        \n",
    "        pe = np.array([get_pos_angel(pos_i) for pos_i in range(max_len)])\n",
    "        pe[:, 0::2] = np.sin(pe[:, 0::2])\n",
    "        pe[:, 1::2] = np.cos(pe[:, 1::2])\n",
    "        pe = torch.FloatTensor(pe)\n",
    "        #pe:[max_len * d_model]\n",
    "        pe = pe.unsqueeze(1)\n",
    "        self.register_buffer('pe', pe)\n",
    "\n",
    "    def forward(self, x):\n",
    "        #x: [seq_len, batch_size, d_model]\n",
    "        x = x + self.pe[:x.size(0), :]\n",
    "        return self.dropout(x)"
   ]
  },
  {
   "cell_type": "code",
   "execution_count": 4,
   "metadata": {},
   "outputs": [],
   "source": [
    "#对<pad>掩码进行标识\n",
    "\n",
    "def get_attn_pad_mask(seq_q, seq_k):\n",
    "    batch_size, len_q = seq_q.size()\n",
    "    batch_size, len_k = seq_k.size()\n",
    "\n",
    "    pad_attn_mask = seq_k.data.eq(0).unsqueeze(1) #[batch_size, 1, len_k]对pad做标识为true,排除对注意力计算的影响\n",
    "    return pad_attn_mask.expand(batch_size, len_q, len_k)"
   ]
  },
  {
   "cell_type": "code",
   "execution_count": 5,
   "metadata": {},
   "outputs": [],
   "source": [
    "def get_attn_subsequent_mask(seq):\n",
    "    #seq: [batch_size, tgt_len]\n",
    "    attn_shape = [seq.size(0), seq.size(1), seq.size(1)]\n",
    "    #attn_shape: [batch_size, tgt_len, tgt_len]\n",
    "    subsequence_mask = np.triu(np.ones(attn_shape), k=1)\n",
    "    \"\"\"\n",
    "        [[0, 1, 1, 1, 1],  \n",
    "         [0, 0, 1, 1, 1],\n",
    "         [0, 0, 0, 1, 1],\n",
    "         [0, 0, 0, 0, 1],\n",
    "         [0, 0, 0, 0, 0]]\"\"\"\n",
    "    subsequence_mask = torch.from_numpy(subsequence_mask).bool()\n",
    "    return subsequence_mask"
   ]
  },
  {
   "cell_type": "code",
   "execution_count": 6,
   "metadata": {},
   "outputs": [],
   "source": [
    "#注意力分数计算\n",
    "class  Scaled_Dot_Product_Attention(nn.Module):\n",
    "    def __init__(self):\n",
    "        super(Scaled_Dot_Product_Attention, self).__init__()\n",
    "        \n",
    "    def forward(self, Q, K, V, attn_mask):\n",
    "        #Q: [batch_size, n_heads, len_q, d_k]\n",
    "        #K: [batch_size, n_heads, len_q, d_k]\n",
    "        #V: [batch_size, n_heads, len_q, d_v]\n",
    "        scores = torch.matmul(Q, K.transpose(-1, -2)) / np.sqrt(d_k)\n",
    "        scores = scores.masked_fill_(attn_mask, -1e9)\n",
    "        attn = nn.Softmax(dim=-1)(scores)\n",
    "        context = torch.matmul(attn, V) #attn: [batch_size, n_heads, len_q, d_v]\n",
    "        return context, attn"
   ]
  },
  {
   "cell_type": "code",
   "execution_count": 7,
   "metadata": {},
   "outputs": [],
   "source": [
    "#多头注意力\n",
    "\n",
    "class Muti_Head_Attention(nn.Module):\n",
    "    def __init__(self):\n",
    "        super(Muti_Head_Attention, self).__init__()\n",
    "        self.W_Q = nn.Linear(d_model, d_k * n_heads)\n",
    "        self.W_K = nn.Linear(d_model, d_k * n_heads)\n",
    "        self.W_V = nn.Linear(d_model, d_v * n_heads)\n",
    "        self.linear = nn.Linear(d_v * n_heads, d_model)\n",
    "        self.layer_norm = nn.LayerNorm(d_model)\n",
    "\n",
    "    def forward(self, q, k, v, attn_mask):\n",
    "        q_clone, batch_size = q, q.size(0)\n",
    "        # 这个多头分为这几个步骤，首先映射分头，然后计算attn_scores，然后计算attn_value;\n",
    "        # 输入进来的数据形状： q: [batch_size, len_q, d_model], k: [batch_size, len_k, d_model], v: [batch_size, len_k, d_model]\n",
    "        Q = self.W_Q(q).view(batch_size, -1, n_heads, d_k).transpose(1, 2)\n",
    "        K = self.W_K(k).view(batch_size, -1, n_heads, d_k).transpose(1, 2)\n",
    "        V = self.W_V(v).view(batch_size, -1, n_heads, d_v).transpose(1, 2)\n",
    "        # 输入进行的attn_mask形状是 batch_size x len_q x len_k\n",
    "        attn_mask = attn_mask.unsqueeze(1).repeat(1, n_heads, 1, 1 )#[batch_size, n_heads, len_q, len_k]，就是把pad信息重复了n个头上\n",
    "        # context: [batch_size, n_heads, len_q, d_v], attn: [batch_size, n_heads, len_q, len_k]\n",
    "        context, attn = Scaled_Dot_Product_Attention().forward(Q, K, V, attn_mask)\n",
    "        context = context.transpose(1, 2).contiguous().view(batch_size, -1, n_heads * d_v)\n",
    "        output = self.linear(context)\n",
    "\n",
    "        return self.layer_norm(q_clone + output), attn"
   ]
  },
  {
   "cell_type": "code",
   "execution_count": 8,
   "metadata": {},
   "outputs": [],
   "source": [
    "#构建FeedForward层\n",
    "\n",
    "class PoswiseFeedForward(nn.Module):\n",
    "    def __init__(self) :\n",
    "        super(PoswiseFeedForward, self).__init__()\n",
    "        self.conv1 = nn.Conv1d(d_model, d_ff, kernel_size=1)\n",
    "        self.conv2 = nn.Conv1d(d_ff, d_model, kernel_size=1)\n",
    "        self.layer_norm = nn.LayerNorm(d_model)\n",
    "    \n",
    "    def forward(self, inputs):\n",
    "        inputs_clone = inputs # inputs : [batch_size, len_q, d_model]\n",
    "        outputs = F.relu(self.conv1(inputs.transpose(1, 2)))\n",
    "        outputs = self.conv2(outputs).transpose(1, 2)\n",
    "        return self.layer_norm(outputs + inputs_clone)"
   ]
  },
  {
   "cell_type": "code",
   "execution_count": 9,
   "metadata": {},
   "outputs": [],
   "source": [
    "# EncoderLayer ：包含两个部分，多头注意力机制和前馈神经网络\n",
    "\n",
    "class EncoderLayer(nn.Module):\n",
    "    def __init__(self):\n",
    "        super(EncoderLayer, self).__init__()\n",
    "        self.enc_attn = Muti_Head_Attention()\n",
    "        self.enc_ffn = PoswiseFeedForward()\n",
    "\n",
    "    def forward(self, enc_inputs, enc_self_attn_mask):\n",
    "        enc_outputs, attn = self.enc_attn(enc_inputs, enc_inputs, enc_inputs, enc_self_attn_mask)\n",
    "        enc_outputs = self.enc_ffn(enc_outputs)\n",
    "        return enc_outputs, attn "
   ]
  },
  {
   "cell_type": "code",
   "execution_count": 10,
   "metadata": {},
   "outputs": [],
   "source": [
    "#Encoder 部分包含三个部分：词向量embedding，位置编码部分，注意力层及后续的前馈神经网络\n",
    "\n",
    "class Encoder(nn.Module):\n",
    "    def __init__(self):\n",
    "        super(Encoder, self).__init__()\n",
    "        self.src_emb = nn.Embedding(src_vocab_size, d_model)\n",
    "        self.pos_emb = PositionalEncoding()\n",
    "        self.layers = nn.ModuleList([EncoderLayer() for _ in range(n_layers)])\n",
    "    def forward(self, enc_inputs):\n",
    "        #enc_inputs: [batch_size, source_len]\n",
    "        enc_outputs = self.src_emb(enc_inputs) #enc_inputs: [batch_size, source_len, d_model]\n",
    "        enc_outputs = self.pos_emb(enc_outputs.transpose(0, 1)).transpose(0, 1)\n",
    "        \n",
    "        enc_self_attn_mask = get_attn_pad_mask(enc_inputs, enc_inputs)\n",
    "        enc_self_attns = []\n",
    "        for layer in self.layers:\n",
    "            enc_outputs, attn = layer(enc_outputs, enc_self_attn_mask)\n",
    "            enc_self_attns.append(attn)\n",
    "\n",
    "        return enc_outputs, enc_self_attns"
   ]
  },
  {
   "cell_type": "code",
   "execution_count": 11,
   "metadata": {},
   "outputs": [],
   "source": [
    "class DecoderLayer(nn.Module):\n",
    "    def __init__(self):\n",
    "        super(DecoderLayer, self).__init__()\n",
    "        self.dec_self_attn = Muti_Head_Attention()\n",
    "        self.dec_enc_attn = Muti_Head_Attention()\n",
    "        self.dec_ffn = PoswiseFeedForward()\n",
    "\n",
    "    def forward(self, dec_inputs, enc_outputs, dec_self_attn_mask, dec_enc_attn_mask):\n",
    "        dec_outputs, dec_self_attn = self.dec_self_attn(dec_inputs, dec_inputs, dec_inputs, dec_self_attn_mask)\n",
    "        dec_outputs, dec_enc_attn = self.dec_enc_attn(dec_outputs, enc_outputs, enc_outputs, dec_enc_attn_mask)\n",
    "        dec_outputs = self.dec_ffn(dec_outputs)\n",
    "\n",
    "        return dec_outputs, dec_self_attn, dec_enc_attn"
   ]
  },
  {
   "cell_type": "code",
   "execution_count": 12,
   "metadata": {},
   "outputs": [],
   "source": [
    "class Decoder(nn.Module):\n",
    "    def __init__(self):\n",
    "        super(Decoder, self).__init__()\n",
    "        self.tgt_emb = nn.Embedding(tgt_vocab_size, d_model)\n",
    "        self.pos_emb = PositionalEncoding()\n",
    "        self.layers = nn.ModuleList([DecoderLayer() for _ in range(n_layers)])\n",
    "\n",
    "    def forward(self, dec_inputs, enc_inputs, enc_outputs):\n",
    "        dec_outputs = self.tgt_emb(dec_inputs) # [batch_size, tgt_len, d_model]\n",
    "        dec_outputs = self.pos_emb(dec_outputs.transpose(0, 1)).transpose(0, 1)\n",
    "\n",
    "        ## get_attn_pad_mask 自注意力层的时候的pad 部分\n",
    "        dec_self_attn_pad_mask = get_attn_pad_mask(dec_inputs, dec_inputs)\n",
    "         ## get_attn_subsequent_mask 这个做的是自注意层的mask部分\n",
    "        dec_self_attn_subsequent_mask = get_attn_subsequent_mask(dec_inputs)\n",
    "        ## 两个矩阵相加，大于0的为1，不大于0的为0，为1的在之后就会被fill到无限小\n",
    "        dec_self_attn_mask = torch.gt(dec_self_attn_pad_mask + dec_self_attn_subsequent_mask, other=0)\n",
    "        ## 这个做的是交互注意力机制中的mask矩阵，enc的输入是k，去看这个k里面哪些是pad符号, 给后面的模型\n",
    "        dec_enc_attn_mask = get_attn_pad_mask(dec_inputs, enc_inputs)\n",
    "        dec_self_attns, dec_enc_attns = [], []\n",
    "        for layer in self.layers:\n",
    "            dec_outputs, dec_self_attn, dec_enc_attn = layer(dec_outputs, enc_outputs, dec_self_attn_mask, dec_enc_attn_mask)\n",
    "            dec_self_attns.append(dec_self_attn)\n",
    "            dec_enc_attns.append(dec_enc_attn)\n",
    "\n",
    "        return dec_outputs, dec_self_attns, dec_enc_attns"
   ]
  },
  {
   "cell_type": "code",
   "execution_count": 13,
   "metadata": {},
   "outputs": [],
   "source": [
    "class Transformer(nn.Module):\n",
    "    def __init__(self):\n",
    "        super(Transformer, self).__init__()\n",
    "        self.encoder = Encoder()\n",
    "        self.decoder = Decoder()\n",
    "        self.projection = nn.Linear(d_model, tgt_vocab_size)\n",
    "\n",
    "    def forward(self, enc_inputs, dec_inputs):\n",
    "        #enc_inputs: [batch_size, src_len], dec_inputs: [batch_size, tgt_len]\n",
    "        enc_outputs, enc_self_attns = self.encoder(enc_inputs)\n",
    "        dec_outputs, dec_self_attns, dec_enc_attns = self.decoder(dec_inputs, enc_inputs, enc_outputs)\n",
    "        ## dec_outputs做映射到词表大小\n",
    "        dec_logits = self.projection(dec_outputs) # [batch_size, src_vocab_size, tgt_vocab_size]\n",
    "        \n",
    "        return dec_logits.view(-1, dec_logits.size(-1)), enc_self_attns, dec_self_attns, dec_enc_attns"
   ]
  },
  {
   "cell_type": "code",
   "execution_count": 14,
   "metadata": {},
   "outputs": [],
   "source": [
    "def greedy_decoder(model, enc_input, start_symble):\n",
    "    enc_output, enc_self_attn = model.encoder(enc_input)\n",
    "    dec_input = torch.zeros(1, 5).type_as(enc_input.data)\n",
    "    next_symble = start_symble\n",
    "    for i in range(0, 5):\n",
    "        dec_input[0][i] = next_symble\n",
    "        dec_output, _, _ = model.decoder(dec_input, enc_input, enc_output)\n",
    "        projected = model.projection(dec_output)\n",
    "        prob = projected.squeeze(0).max(dim=-1, keepdim=False)[1]\n",
    "        next_word = prob.data[i]\n",
    "        next_symble = next_word.item()\n",
    "    \n",
    "    return dec_input"
   ]
  },
  {
   "cell_type": "code",
   "execution_count": 15,
   "metadata": {},
   "outputs": [],
   "source": [
    "def showgraph(attn, losses):\n",
    "    if losses is not None:\n",
    "        # 绘制训练损失折线图\n",
    "        plt.figure(figsize=(8, 6))\n",
    "        plt.plot(losses, label=\"Training Loss\")\n",
    "        plt.title(\"Training Loss\")\n",
    "        plt.xlabel(\"Epoch\")\n",
    "        plt.ylabel(\"Loss\")\n",
    "        plt.legend()\n",
    "        plt.grid(True)\n",
    "        plt.show()\n",
    "    elif attn is not None:\n",
    "        attn = attn[-1].squeeze(0)[0]\n",
    "        attn = attn.squeeze(0).data.numpy()\n",
    "        fig = plt.figure(figsize=(n_heads, n_heads))\n",
    "        ax = fig.add_subplot(1, 1, 1)\n",
    "        ax.matshow(attn, cmap='viridis')\n",
    "\n",
    "        x_labels = [''] + sentences[0].split()\n",
    "        y_labels = [''] + sentences[2].split()\n",
    "\n",
    "        ax.set_xticks(range(len(x_labels)))\n",
    "        ax.set_xticklabels(x_labels, fontdict={'fontsize' : 14}, rotation=90)\n",
    "        ax.set_yticks(range(len(y_labels)))\n",
    "        ax.set_yticklabels(y_labels, fontdict={'fontsize' : 14})\n",
    "\n",
    "        plt.show()"
   ]
  },
  {
   "cell_type": "code",
   "execution_count": 16,
   "metadata": {},
   "outputs": [
    {
     "name": "stdout",
     "output_type": "stream",
     "text": [
      "Epoch:0001, loss = 1.924310\n",
      "Epoch:0002, loss = 0.852155\n",
      "Epoch:0003, loss = 0.771032\n",
      "Epoch:0004, loss = 0.335491\n",
      "Epoch:0005, loss = 0.064271\n",
      "Epoch:0006, loss = 0.047940\n",
      "Epoch:0007, loss = 0.033354\n",
      "Epoch:0008, loss = 0.020718\n",
      "Epoch:0009, loss = 0.007646\n",
      "Epoch:0010, loss = 0.002793\n",
      "Epoch:0011, loss = 0.001406\n",
      "Epoch:0012, loss = 0.001167\n",
      "Epoch:0013, loss = 0.000891\n",
      "Epoch:0014, loss = 0.000987\n",
      "Epoch:0015, loss = 0.001210\n",
      "Epoch:0016, loss = 0.001375\n",
      "Epoch:0017, loss = 0.001720\n",
      "Epoch:0018, loss = 0.001161\n",
      "Epoch:0019, loss = 0.001964\n",
      "Epoch:0020, loss = 0.001560\n",
      "Epoch:0021, loss = 0.001207\n",
      "Epoch:0022, loss = 0.000946\n",
      "Epoch:0023, loss = 0.000979\n",
      "Epoch:0024, loss = 0.000824\n",
      "Epoch:0025, loss = 0.000643\n",
      "Epoch:0026, loss = 0.000605\n",
      "Epoch:0027, loss = 0.000470\n",
      "Epoch:0028, loss = 0.000372\n",
      "Epoch:0029, loss = 0.000356\n",
      "Epoch:0030, loss = 0.000439\n",
      "Epoch:0031, loss = 0.000340\n",
      "Epoch:0032, loss = 0.000270\n",
      "Epoch:0033, loss = 0.000263\n",
      "Epoch:0034, loss = 0.000223\n",
      "Epoch:0035, loss = 0.000179\n",
      "Epoch:0036, loss = 0.000208\n",
      "Epoch:0037, loss = 0.000178\n",
      "Epoch:0038, loss = 0.000149\n",
      "Epoch:0039, loss = 0.000158\n",
      "Epoch:0040, loss = 0.000133\n",
      "Epoch:0041, loss = 0.000134\n",
      "Epoch:0042, loss = 0.000125\n",
      "Epoch:0043, loss = 0.000116\n",
      "Epoch:0044, loss = 0.000108\n",
      "Epoch:0045, loss = 0.000102\n",
      "Epoch:0046, loss = 0.000105\n",
      "Epoch:0047, loss = 0.000101\n",
      "Epoch:0048, loss = 0.000086\n",
      "Epoch:0049, loss = 0.000100\n",
      "Epoch:0050, loss = 0.000096\n",
      "Epoch:0051, loss = 0.000086\n",
      "Epoch:0052, loss = 0.000095\n",
      "Epoch:0053, loss = 0.000082\n",
      "Epoch:0054, loss = 0.000083\n",
      "Epoch:0055, loss = 0.000079\n",
      "Epoch:0056, loss = 0.000075\n",
      "Epoch:0057, loss = 0.000069\n",
      "Epoch:0058, loss = 0.000067\n",
      "Epoch:0059, loss = 0.000073\n",
      "Epoch:0060, loss = 0.000072\n",
      "ich mochte ein bier P -> ['i', 'want', 'a', 'beer', 'E']\n",
      "Training Loss\n"
     ]
    },
    {
     "data": {
      "image/png": "[encoded data removed]",
      "text/plain": [
       "<Figure size 576x432 with 1 Axes>"
      ]
     },
     "metadata": {
      "needs_background": "light"
     },
     "output_type": "display_data"
    },
    {
     "name": "stdout",
     "output_type": "stream",
     "text": [
      "first head of last state enc_self_attns\n"
     ]
    },
    {
     "data": {
      "image/png": "[encoded data removed]",
      "text/plain": [
       "<Figure size 576x576 with 1 Axes>"
      ]
     },
     "metadata": {
      "needs_background": "light"
     },
     "output_type": "display_data"
    },
    {
     "name": "stdout",
     "output_type": "stream",
     "text": [
      "first head of last state dec_self_attns\n"
     ]
    },
    {
     "data": {
      "image/png": "[encoded data removed]",
      "text/plain": [
       "<Figure size 576x576 with 1 Axes>"
      ]
     },
     "metadata": {
      "needs_background": "light"
     },
     "output_type": "display_data"
    },
    {
     "name": "stdout",
     "output_type": "stream",
     "text": [
      "first head of last state dec_enc_attns\n"
     ]
    },
    {
     "data": {
      "image/png": "[encoded data removed]",
      "text/plain": [
       "<Figure size 576x576 with 1 Axes>"
      ]
     },
     "metadata": {
      "needs_background": "light"
     },
     "output_type": "display_data"
    }
   ],
   "source": [
    "if __name__ == '__main__':\n",
    "    #句子的输入部分，分别是: 编码端输入，解码端输入，解码端真实标签\n",
    "    #S表示开始标志，E表示结束标志，P表示填充字符\n",
    "    sentences = ['ich mochte ein bier P', 'S i want a beer', 'i want a beer E']\n",
    "\n",
    "    # Transformer Parameters\n",
    "    # Padding Should be Zero\n",
    "    ## 构建词表\n",
    "    src_vocab = {'P': 0, 'ich': 1, 'mochte': 2, 'ein': 3, 'bier': 4}\n",
    "    src_vocab_size = len(src_vocab)\n",
    "\n",
    "    tgt_vocab = {'P': 0, 'i': 1, 'want': 2, 'a': 3, 'beer': 4, 'S': 5, 'E': 6}\n",
    "    number_dict = {i: w for i, w in enumerate(tgt_vocab)}\n",
    "    tgt_vocab_size = len(tgt_vocab)\n",
    "\n",
    "    src_len = 5  # length of source\n",
    "    tgt_len = 5  # length of target\n",
    "\n",
    "    ## 模型参数\n",
    "    d_model = 512  # Embedding Size\n",
    "    d_ff = 2048  # FeedForward dimension\n",
    "    d_k = d_v = 64  # dimension of K(=Q), V\n",
    "    n_layers = 6  # number of Encoder and Decoder Layer\n",
    "    n_heads = 8  # number of heads in Multi-Head Attention\n",
    "\n",
    "    model = Transformer()\n",
    "    criterion = nn.CrossEntropyLoss()\n",
    "    optimizer = torch.optim.Adam(model.parameters(), lr=0.0001)\n",
    "    enc_input, dec_input, tgt_batch = make_batch(sentences)\n",
    "\n",
    "    losses = []\n",
    "    for epoch in range(60):\n",
    "        optimizer.zero_grad()\n",
    "        output, enc_self_attns, dec_self_attns, dec_enc_attns = model(enc_input, dec_input)\n",
    "        loss = criterion(output, tgt_batch.contiguous().view(-1))\n",
    "        losses.append(loss.item())\n",
    "        print(f\"Epoch:{(epoch + 1):04d}, loss = {loss:.6f}\")\n",
    "        loss.backward()\n",
    "        optimizer.step()\n",
    "\n",
    "\n",
    "#Test\n",
    "greedy_dec_input = greedy_decoder(model, enc_input, tgt_vocab['S'])\n",
    "predict, _, _, _ = model(enc_input, greedy_dec_input)\n",
    "predict = predict.data.max(dim=-1, keepdim=True)[1]\n",
    "print(sentences[0], '->', [number_dict[n.item()] for n in predict.squeeze()])\n",
    "\n",
    "print(\"Training Loss\")\n",
    "showgraph(attn=None, losses=losses)\n",
    "\n",
    "print(\"first head of last state enc_self_attns\")\n",
    "showgraph(attn=enc_self_attns, losses=None)\n",
    "\n",
    "print(\"first head of last state dec_self_attns\")\n",
    "showgraph(attn=dec_self_attns, losses=None)\n",
    "\n",
    "print(\"first head of last state dec_enc_attns\")\n",
    "showgraph(attn=dec_enc_attns, losses=None)"
   ]
  }
 ],
 "metadata": {
  "kernelspec": {
   "display_name": "pytorch",
   "language": "python",
   "name": "python3"
  },
  "language_info": {
   "codemirror_mode": {
    "name": "ipython",
    "version": 3
   },
   "file_extension": ".py",
   "mimetype": "text/x-python",
   "name": "python",
   "nbconvert_exporter": "python",
   "pygments_lexer": "ipython3",
   "version": "3.6.15"
  }
 },
 "nbformat": 4,
 "nbformat_minor": 2
}
